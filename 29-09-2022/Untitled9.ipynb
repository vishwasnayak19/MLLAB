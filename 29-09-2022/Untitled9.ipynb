{
 "cells": [
  {
   "cell_type": "code",
   "execution_count": 8,
   "metadata": {},
   "outputs": [
    {
     "name": "stdout",
     "output_type": "stream",
     "text": [
      "Enter the number of elements: 5\n",
      "Enter the elements: 1\n",
      "Enter the elements: 2\n",
      "Enter the elements: 3\n",
      "Enter the elements: 4\n",
      "Enter the elements: 5\n",
      "-2.0\n",
      "-1.0\n",
      "0.0\n",
      "1.0\n",
      "2.0\n"
     ]
    }
   ],
   "source": [
    "#standardisation\n",
    "data=[];\n",
    "n=int(input(\"Enter the number of elements: \"))\n",
    "for i in range (0,n):\n",
    "    e=int(input(\"Enter the elements: \"));\n",
    "    data.append(e)\n",
    "mean=sum(data)//n\n",
    "var=0;\n",
    "for i in data:\n",
    "    var=var+(i-mean)**2\n",
    "    variance=var//n\n",
    "sd=variance*0.5\n",
    "for j in data:\n",
    "    std=(j-mean)//sd\n",
    "    print(std)"
   ]
  },
  {
   "cell_type": "code",
   "execution_count": 9,
   "metadata": {},
   "outputs": [
    {
     "name": "stdout",
     "output_type": "stream",
     "text": [
      "Minimum value is  1\n",
      "Maximum value is  5\n",
      "0.0\n",
      "0.25\n",
      "0.5\n",
      "0.75\n",
      "1.0\n"
     ]
    }
   ],
   "source": [
    "#normalization\n",
    "\n",
    "minimum =min(data)\n",
    "print(\"Minimum value is \",minimum)\n",
    "maximum =max(data)\n",
    "print(\"Maximum value is \",maximum)\n",
    "for i in data:\n",
    "    normal=(i-minimum)/(maximum -minimum)\n",
    "    print(normal)\n",
    "        \n",
    "    "
   ]
  },
  {
   "cell_type": "code",
   "execution_count": null,
   "metadata": {},
   "outputs": [],
   "source": []
  }
 ],
 "metadata": {
  "kernelspec": {
   "display_name": "Python 3",
   "language": "python",
   "name": "python3"
  },
  "language_info": {
   "codemirror_mode": {
    "name": "ipython",
    "version": 3
   },
   "file_extension": ".py",
   "mimetype": "text/x-python",
   "name": "python",
   "nbconvert_exporter": "python",
   "pygments_lexer": "ipython3",
   "version": "3.8.10"
  }
 },
 "nbformat": 4,
 "nbformat_minor": 4
}
