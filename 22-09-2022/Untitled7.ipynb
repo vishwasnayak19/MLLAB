{
 "cells": [
  {
   "cell_type": "code",
   "execution_count": 3,
   "metadata": {},
   "outputs": [
    {
     "name": "stdout",
     "output_type": "stream",
     "text": [
      "Sushma\n"
     ]
    }
   ],
   "source": [
    "print ('Sushma')"
   ]
  },
  {
   "cell_type": "code",
   "execution_count": 7,
   "metadata": {},
   "outputs": [
    {
     "name": "stdout",
     "output_type": "stream",
     "text": [
      "Enter the number2\n",
      " Enter the second number3\n",
      "5\n"
     ]
    }
   ],
   "source": [
    "a=int(input(\"Enter the number\"))\n",
    "b=int(input(\" Enter the second number\"))\n",
    "\n",
    "print (a+b)"
   ]
  },
  {
   "cell_type": "code",
   "execution_count": 21,
   "metadata": {},
   "outputs": [
    {
     "name": "stdout",
     "output_type": "stream",
     "text": [
      "enter the number of elements3\n",
      "1\n",
      "2\n",
      "3\n",
      "Enter the element you want to search3\n"
     ]
    },
    {
     "data": {
      "text/plain": [
       "2"
      ]
     },
     "execution_count": 21,
     "metadata": {},
     "output_type": "execute_result"
    }
   ],
   "source": [
    "def lin_search(list,n,key):\n",
    "    for i in range(0,n):\n",
    "        if(list[i]==key):\n",
    "            return i\n",
    "    return -1\n",
    "\n",
    "\n",
    "\n",
    "n=int(input(\"enter the number of elements\"))\n",
    "\n",
    "a=[]\n",
    "for i in range(0,n):\n",
    "    list1 =int(input())\n",
    "    a.append(list1)\n",
    "\n",
    "    \n",
    "key=int(input(\"Enter the element you want to search\"))\n",
    "lin_search(a,n,key)\n",
    "\n"
   ]
  },
  {
   "cell_type": "code",
   "execution_count": 28,
   "metadata": {},
   "outputs": [
    {
     "name": "stdout",
     "output_type": "stream",
     "text": [
      "enter the number of elements3\n",
      "1\n",
      "2\n",
      "3\n",
      "Enter the element you want to search2\n"
     ]
    },
    {
     "data": {
      "text/plain": [
       "1"
      ]
     },
     "execution_count": 28,
     "metadata": {},
     "output_type": "execute_result"
    }
   ],
   "source": [
    "def bin_s(a,x,low,high):\n",
    "    while(low<=high):\n",
    "        mid=(high+low)//2\n",
    "        if(a[mid]==x):\n",
    "            return mid\n",
    "        elif(a[mid]>x):\n",
    "            return bin_s(a,x,low,mid-1)\n",
    "        else:\n",
    "            return bin_s(a,x,mid+1,high)\n",
    "    return -1\n",
    "\n",
    "n=int(input(\"enter the number of elements\"))\n",
    "\n",
    "a=[]\n",
    "for i in range(0,n):\n",
    "    list1 =int(input())\n",
    "    a.append(list1)\n",
    "\n",
    "    \n",
    "x=int(input(\"Enter the element you want to search\"))\n",
    "bin_s(a,x,0,n)"
   ]
  },
  {
   "cell_type": "code",
   "execution_count": 32,
   "metadata": {},
   "outputs": [
    {
     "name": "stdout",
     "output_type": "stream",
     "text": [
      "enter the number of elements3\n",
      "1\n",
      "3\n",
      "2\n"
     ]
    },
    {
     "data": {
      "text/plain": [
       "[1, 2, 3]"
      ]
     },
     "execution_count": 32,
     "metadata": {},
     "output_type": "execute_result"
    }
   ],
   "source": [
    "def sel_sort(a,n):\n",
    "    for i in range(n-1):\n",
    "        minInd=i\n",
    "    for j in range(i+1,n):\n",
    "        if a[j]<a[minInd]:\n",
    "            minInd=j\n",
    "        \n",
    "            a[i],a[minInd]=a[minInd],a[i]\n",
    "        \n",
    "    return a\n",
    "n=int(input(\"enter the number of elements\"))\n",
    "\n",
    "a=[]\n",
    "for i in range(0,n):\n",
    "    list1 =int(input())\n",
    "    a.append(list1)\n",
    "\n",
    "sel_sort(a,n)\n"
   ]
  },
  {
   "cell_type": "code",
   "execution_count": 36,
   "metadata": {},
   "outputs": [
    {
     "data": {
      "text/plain": [
       "['hello my name is Sushma\\n']"
      ]
     },
     "execution_count": 36,
     "metadata": {},
     "output_type": "execute_result"
    }
   ],
   "source": [
    "file=open(\"/home/root1/file1.txt\",\"r\")\n",
    "file.readlines()"
   ]
  }
 ],
 "metadata": {
  "kernelspec": {
   "display_name": "Python 3",
   "language": "python",
   "name": "python3"
  },
  "language_info": {
   "codemirror_mode": {
    "name": "ipython",
    "version": 3
   },
   "file_extension": ".py",
   "mimetype": "text/x-python",
   "name": "python",
   "nbconvert_exporter": "python",
   "pygments_lexer": "ipython3",
   "version": "3.8.5"
  }
 },
 "nbformat": 4,
 "nbformat_minor": 4
}
